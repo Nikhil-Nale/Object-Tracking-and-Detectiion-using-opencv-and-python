{
 "cells": [
  {
   "cell_type": "code",
   "execution_count": null,
   "metadata": {
    "scrolled": true
   },
   "outputs": [],
   "source": [
    "import cv2\n",
    "from tracker import *\n",
    "\n",
    "#Create Tracker Object \n",
    "tracker = EuclideanDistTracker()\n",
    "\n",
    "\n",
    "cap = cv2.VideoCapture(\"highway.mp4\")\n",
    "\n",
    "#Object detection from the stable camera\n",
    "object_detector = cv2.createBackgroundSubtractorMOG2(history=100, varThreshold=40)\n",
    "\n",
    "while True:\n",
    "    \n",
    "    ret, frame = cap.read()\n",
    "    \n",
    "    height, width, _ = frame.shape\n",
    "    # print(height, width)\n",
    "    \n",
    "    #Extract Region of interest\n",
    "    roi = frame[340:720,500:800]\n",
    "    \n",
    "    \n",
    "    # 1 - Object Detection\n",
    "    \n",
    "    mask = object_detector.apply(roi)\n",
    "    _, mask = cv2.threshold(mask, 254, 255, cv2.THRESH_BINARY) # TO reove the gray area from the mask\n",
    "    (_,contours,_) = cv2.findContours(mask, cv2.RETR_TREE, cv2.CHAIN_APPROX_SIMPLE)\n",
    "    detections = []\n",
    "    for cnt in contours:\n",
    "        \n",
    "        #calculate area and remove small elements\n",
    "        area = cv2.contourArea(cnt)\n",
    "        \n",
    "        if area > 100 :\n",
    "            #cv2.drawContours(roi, [cnt], -1, (150,255,0), 2)\n",
    "            x,y,w,h = cv2.boundingRect(cnt)\n",
    "            cv2.rectangle(roi, (x,y), (x+w, y+h), (255,0,255), 2)\n",
    "            #print(x,y,w,h)\n",
    "            detections.append([x,y,w,h])\n",
    "    \n",
    "    \n",
    "    # 2 - Object Tracking\n",
    "    \n",
    "    boxes_ids = tracker.update(detections)\n",
    "    for box_id in boxes_ids:\n",
    "        x,y,w,h,id = box_id\n",
    "        cv2.putText(roi, str(id), (x,y-10), cv2.FONT_HERSHEY_SIMPLEX, 1, (255,0,200), 3)\n",
    "        cv2.rectangle(roi, (x,y), (x+w, y+h), (255,0,255), 2)\n",
    "        \n",
    "    \n",
    "    \n",
    "    # print(detections)\n",
    "    print(boxes_ids)\n",
    "    cv2.imshow(\"Roi\", roi)\n",
    "    cv2.imshow(\"Mask\", mask)\n",
    "    cv2.imshow(\"Frame\", frame)\n",
    "    \n",
    "    \n",
    "    key = cv2.waitKey(30)\n",
    "    if key == 27:\n",
    "        break #esc key to quit\n",
    "        \n",
    "    \n",
    "    \n",
    "        \n",
    "cap.release()\n",
    "cv2.destroyAllWindows()"
   ]
  },
  {
   "cell_type": "code",
   "execution_count": null,
   "metadata": {},
   "outputs": [],
   "source": [
    "cv2.putText??"
   ]
  },
  {
   "cell_type": "code",
   "execution_count": null,
   "metadata": {},
   "outputs": [],
   "source": []
  }
 ],
 "metadata": {
  "kernelspec": {
   "display_name": "Python 3",
   "language": "python",
   "name": "python3"
  },
  "language_info": {
   "codemirror_mode": {
    "name": "ipython",
    "version": 3
   },
   "file_extension": ".py",
   "mimetype": "text/x-python",
   "name": "python",
   "nbconvert_exporter": "python",
   "pygments_lexer": "ipython3",
   "version": "3.8.3"
  }
 },
 "nbformat": 4,
 "nbformat_minor": 4
}
